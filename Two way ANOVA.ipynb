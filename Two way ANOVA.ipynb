{
 "cells": [
  {
   "cell_type": "markdown",
   "id": "915ac177",
   "metadata": {},
   "source": [
    "# Two Way ANOVA"
   ]
  },
  {
   "cell_type": "markdown",
   "id": "76e3214f",
   "metadata": {},
   "source": [
    "ANOVA (Analysis of Variance) is a statistical test used to analyze the difference between the means of more than two groups."
   ]
  },
  {
   "cell_type": "markdown",
   "id": "338b530c",
   "metadata": {},
   "source": [
    "## Objectives\n",
    "\n",
    "1) To examine teatments effect on perticular objects.\n",
    "\n",
    "\n",
    "2) To identify the blocks effect.\n"
   ]
  },
  {
   "cell_type": "markdown",
   "id": "ede4b2ce",
   "metadata": {},
   "source": [
    "## Two way ANOVA model for without interaction:\n",
    "              \n",
    "              \n",
    "              µij = µ + αi + βj\n",
    "          \n",
    "          "
   ]
  },
  {
   "cell_type": "markdown",
   "id": "b935dbbb",
   "metadata": {},
   "source": [
    "## Hypothesis for first factor:\n",
    "\n",
    "H0 : µ1j = µ2j = µ3j = µ4j = µ5j = µ + βj\n",
    "     (i.e) α1 = α2 = α3 = α4 = α5 = 0\n",
    "\n",
    "V/s\n",
    "\n",
    "\n",
    "H1 : At least one of the treatment effects is different to the others"
   ]
  },
  {
   "cell_type": "markdown",
   "id": "c72bca85",
   "metadata": {},
   "source": [
    "## Hypothesis for second factor:\n",
    "\n",
    "H0 : µi1 = µi2 = µi3 = µi4 = µ + αi\n",
    "     (i.e) β1 = β2 = β3 = β4 = 0\n",
    "     \n",
    "     \n",
    "     V/s\n",
    "     \n",
    "     \n",
    "\n",
    "H1 : At least one of the Block effects is different to the others"
   ]
  },
  {
   "cell_type": "markdown",
   "id": "49b27323",
   "metadata": {},
   "source": [
    "## Assumptions\n",
    "\n",
    "1) Homogeneity of variance\n",
    "\n",
    "\n",
    "2) Independence of observations\n",
    "\n",
    "\n",
    "3) Normally-distributed dependent variable"
   ]
  },
  {
   "cell_type": "markdown",
   "id": "d4e08f53",
   "metadata": {},
   "source": [
    "## Example: \n",
    "\n",
    "\n",
    "treatments  Block 1  Block 2  Block 3   Block 4\n",
    "\n",
    "\n",
    "    A     46       56     55      47\n",
    "    \n",
    "    \n",
    "    B     54       55     51      56\n",
    "    \n",
    "    \n",
    "    C     48       56     50      58\n",
    "    \n",
    "    \n",
    "    D     46       60     51      59\n",
    "    \n",
    "    \n",
    "    E     51       53     53      55\n",
    " \n",
    " \n",
    " \n",
    "Use two way anova for testing treatments effect and Block effects."
   ]
  },
  {
   "cell_type": "code",
   "execution_count": 3,
   "id": "69139d8a",
   "metadata": {},
   "outputs": [],
   "source": [
    "A=[46,56,55,47]\n",
    "B=[54,55,51,56]\n",
    "C=[48,56,50,58]\n",
    "D=[46,60,51,59]\n",
    "E=[51,53,53,55]\n",
    "B1=[46,54,48,46,51]\n",
    "B2=[56,55,56,60,53]\n",
    "B3=[55,51,50,51,53]\n",
    "B4=[47,56,58,59,55]"
   ]
  },
  {
   "cell_type": "code",
   "execution_count": 4,
   "id": "5ba907d3",
   "metadata": {},
   "outputs": [
    {
     "name": "stdout",
     "output_type": "stream",
     "text": [
      "4\n",
      "5\n"
     ]
    }
   ],
   "source": [
    "m=len(A)\n",
    "n=len(B1)\n",
    "print(m)\n",
    "print(n)"
   ]
  },
  {
   "cell_type": "code",
   "execution_count": 5,
   "id": "fd762f9d",
   "metadata": {},
   "outputs": [],
   "source": [
    "N=m*n"
   ]
  },
  {
   "cell_type": "code",
   "execution_count": 6,
   "id": "47c5980f",
   "metadata": {},
   "outputs": [],
   "source": [
    "#here we find teatment means xi.bar,i=1,2,...,m\n",
    "def mean(data):\n",
    "    return sum(data)/m"
   ]
  },
  {
   "cell_type": "code",
   "execution_count": 7,
   "id": "ff671f92",
   "metadata": {},
   "outputs": [
    {
     "name": "stdout",
     "output_type": "stream",
     "text": [
      "51.0\n",
      "54.0\n",
      "53.0\n",
      "54.0\n",
      "53.0\n"
     ]
    }
   ],
   "source": [
    "x1=mean(A)\n",
    "x2=mean(B)\n",
    "x3=mean(C)\n",
    "x4=mean(D)\n",
    "x5=mean(E)\n",
    "print(x1)\n",
    "print(x2)\n",
    "print(x3)\n",
    "print(x4)\n",
    "print(x5)"
   ]
  },
  {
   "cell_type": "code",
   "execution_count": 8,
   "id": "cd25fb7e",
   "metadata": {},
   "outputs": [],
   "source": [
    "# here we find blocks means\n",
    "def mean(data1):\n",
    "    return sum(data1)/n"
   ]
  },
  {
   "cell_type": "code",
   "execution_count": 9,
   "id": "38f8fe6f",
   "metadata": {},
   "outputs": [
    {
     "name": "stdout",
     "output_type": "stream",
     "text": [
      "49.0\n",
      "56.0\n",
      "52.0\n",
      "55.0\n"
     ]
    }
   ],
   "source": [
    "y1=mean(B1)\n",
    "y2=mean(B2)\n",
    "y3=mean(B3)\n",
    "y4=mean(B4)\n",
    "print(y1)\n",
    "print(y2)\n",
    "print(y3)\n",
    "print(y4)\n"
   ]
  },
  {
   "cell_type": "code",
   "execution_count": 10,
   "id": "c3447db2",
   "metadata": {},
   "outputs": [
    {
     "data": {
      "text/plain": [
       "53.0"
      ]
     },
     "execution_count": 10,
     "metadata": {},
     "output_type": "execute_result"
    }
   ],
   "source": [
    "# here we find total mean:xbar=sum(xij)/N\n",
    "\n",
    "xbar=(sum(A)+sum(B)+sum(C)+sum(D)+sum(E))/N\n",
    "xbar"
   ]
  },
  {
   "cell_type": "code",
   "execution_count": 11,
   "id": "793d22e8",
   "metadata": {},
   "outputs": [
    {
     "data": {
      "text/plain": [
       "[4.0, 1.0, 0.0, 1.0, 0.0]"
      ]
     },
     "execution_count": 11,
     "metadata": {},
     "output_type": "execute_result"
    }
   ],
   "source": [
    "# Here we find treatment sum of square =\n",
    "t=[51.0,54.0,53.0,54.0,53.0]\n",
    "T=[(i-xbar)**2 for i in t]\n",
    "T"
   ]
  },
  {
   "cell_type": "code",
   "execution_count": 12,
   "id": "3e3c9ad3",
   "metadata": {},
   "outputs": [
    {
     "data": {
      "text/plain": [
       "[16.0, 9.0, 1.0, 4.0]"
      ]
     },
     "execution_count": 12,
     "metadata": {},
     "output_type": "execute_result"
    }
   ],
   "source": [
    "# here we find block sum of square\n",
    "b=[49.0,56.0,52.0,55.0]\n",
    "BT=[(i-xbar)**2 for i in b]\n",
    "BT"
   ]
  },
  {
   "cell_type": "code",
   "execution_count": 13,
   "id": "4e14dc2a",
   "metadata": {},
   "outputs": [],
   "source": [
    "import pandas as pd"
   ]
  },
  {
   "cell_type": "code",
   "execution_count": 14,
   "id": "5e4ba9c4",
   "metadata": {},
   "outputs": [],
   "source": [
    "name=['A','B','C','D','E','Block mean','sum of square block']\n",
    "b1=[46,54,48,46,51,49.0,16.0]\n",
    "b2=[56,55,56,60,53,56.0,9.0]\n",
    "b3=[55,51,50,51,53,52.0,1.0]\n",
    "b4=[47,56,58,59,55,55.0,4.0]\n",
    "T_mean=[51.0,54.0,53.0,54.0,53.0,53.0,30]\n",
    "T_ss=[4.0, 1.0, 0.0, 1.0, 0.0,6,0]"
   ]
  },
  {
   "cell_type": "code",
   "execution_count": 15,
   "id": "88a5ecb4",
   "metadata": {},
   "outputs": [
    {
     "data": {
      "text/html": [
       "<div>\n",
       "<style scoped>\n",
       "    .dataframe tbody tr th:only-of-type {\n",
       "        vertical-align: middle;\n",
       "    }\n",
       "\n",
       "    .dataframe tbody tr th {\n",
       "        vertical-align: top;\n",
       "    }\n",
       "\n",
       "    .dataframe thead th {\n",
       "        text-align: right;\n",
       "    }\n",
       "</style>\n",
       "<table border=\"1\" class=\"dataframe\">\n",
       "  <thead>\n",
       "    <tr style=\"text-align: right;\">\n",
       "      <th></th>\n",
       "      <th>Treatments &amp; Blocks</th>\n",
       "      <th>B1</th>\n",
       "      <th>B2</th>\n",
       "      <th>B3</th>\n",
       "      <th>B4</th>\n",
       "      <th>treatment mean</th>\n",
       "      <th>Treatment sum of square</th>\n",
       "    </tr>\n",
       "  </thead>\n",
       "  <tbody>\n",
       "    <tr>\n",
       "      <th>0</th>\n",
       "      <td>A</td>\n",
       "      <td>46.0</td>\n",
       "      <td>56.0</td>\n",
       "      <td>55.0</td>\n",
       "      <td>47.0</td>\n",
       "      <td>51.0</td>\n",
       "      <td>4.0</td>\n",
       "    </tr>\n",
       "    <tr>\n",
       "      <th>1</th>\n",
       "      <td>B</td>\n",
       "      <td>54.0</td>\n",
       "      <td>55.0</td>\n",
       "      <td>51.0</td>\n",
       "      <td>56.0</td>\n",
       "      <td>54.0</td>\n",
       "      <td>1.0</td>\n",
       "    </tr>\n",
       "    <tr>\n",
       "      <th>2</th>\n",
       "      <td>C</td>\n",
       "      <td>48.0</td>\n",
       "      <td>56.0</td>\n",
       "      <td>50.0</td>\n",
       "      <td>58.0</td>\n",
       "      <td>53.0</td>\n",
       "      <td>0.0</td>\n",
       "    </tr>\n",
       "    <tr>\n",
       "      <th>3</th>\n",
       "      <td>D</td>\n",
       "      <td>46.0</td>\n",
       "      <td>60.0</td>\n",
       "      <td>51.0</td>\n",
       "      <td>59.0</td>\n",
       "      <td>54.0</td>\n",
       "      <td>1.0</td>\n",
       "    </tr>\n",
       "    <tr>\n",
       "      <th>4</th>\n",
       "      <td>E</td>\n",
       "      <td>51.0</td>\n",
       "      <td>53.0</td>\n",
       "      <td>53.0</td>\n",
       "      <td>55.0</td>\n",
       "      <td>53.0</td>\n",
       "      <td>0.0</td>\n",
       "    </tr>\n",
       "    <tr>\n",
       "      <th>5</th>\n",
       "      <td>Block mean</td>\n",
       "      <td>49.0</td>\n",
       "      <td>56.0</td>\n",
       "      <td>52.0</td>\n",
       "      <td>55.0</td>\n",
       "      <td>53.0</td>\n",
       "      <td>6.0</td>\n",
       "    </tr>\n",
       "    <tr>\n",
       "      <th>6</th>\n",
       "      <td>sum of square block</td>\n",
       "      <td>16.0</td>\n",
       "      <td>9.0</td>\n",
       "      <td>1.0</td>\n",
       "      <td>4.0</td>\n",
       "      <td>30.0</td>\n",
       "      <td>0.0</td>\n",
       "    </tr>\n",
       "  </tbody>\n",
       "</table>\n",
       "</div>"
      ],
      "text/plain": [
       "   Treatments & Blocks    B1    B2    B3    B4  treatment mean  \\\n",
       "0                    A  46.0  56.0  55.0  47.0            51.0   \n",
       "1                    B  54.0  55.0  51.0  56.0            54.0   \n",
       "2                    C  48.0  56.0  50.0  58.0            53.0   \n",
       "3                    D  46.0  60.0  51.0  59.0            54.0   \n",
       "4                    E  51.0  53.0  53.0  55.0            53.0   \n",
       "5           Block mean  49.0  56.0  52.0  55.0            53.0   \n",
       "6  sum of square block  16.0   9.0   1.0   4.0            30.0   \n",
       "\n",
       "   Treatment sum of square  \n",
       "0                      4.0  \n",
       "1                      1.0  \n",
       "2                      0.0  \n",
       "3                      1.0  \n",
       "4                      0.0  \n",
       "5                      6.0  \n",
       "6                      0.0  "
      ]
     },
     "execution_count": 15,
     "metadata": {},
     "output_type": "execute_result"
    }
   ],
   "source": [
    "data_dict = {'Treatments & Blocks':name,'B1':b1,'B2':b2,'B3':b3,'B4':b4,'treatment mean':T_mean,'Treatment sum of square':T_ss}\n",
    "df = pd.DataFrame(data_dict)\n",
    "df"
   ]
  },
  {
   "cell_type": "markdown",
   "id": "dabe82ec",
   "metadata": {},
   "source": [
    "## here we find treatment sum of square=SSTr= m*(sum(Treatment mean-Total mean)**2)\n",
    "## Degree of Freedom=(n-1)\n",
    "## Mean sum of square=SSTr/DF"
   ]
  },
  {
   "cell_type": "code",
   "execution_count": 23,
   "id": "a6d1b9b3",
   "metadata": {},
   "outputs": [
    {
     "name": "stdout",
     "output_type": "stream",
     "text": [
      "24\n",
      "4\n",
      "6.0\n"
     ]
    }
   ],
   "source": [
    "SSTr=m*6\n",
    "dft=n-1\n",
    "MST=SSTr/dft\n",
    "print(SSTr)\n",
    "print(dft)\n",
    "print(MST)\n"
   ]
  },
  {
   "cell_type": "markdown",
   "id": "72ac5172",
   "metadata": {},
   "source": [
    "## here we find Block sum of square=SSB= n*(sum(Block mean-Total mean)**2)\n",
    "## Degree of Freedom=(m-1)\n",
    "## Mean sum of square=SSB/DF"
   ]
  },
  {
   "cell_type": "code",
   "execution_count": 24,
   "id": "bcdf98e2",
   "metadata": {},
   "outputs": [
    {
     "name": "stdout",
     "output_type": "stream",
     "text": [
      "150\n",
      "3\n",
      "50.0\n"
     ]
    }
   ],
   "source": [
    "SSB=n*30\n",
    "dfb=m-1\n",
    "MSB=SSB/dfb\n",
    "print(SSB)\n",
    "print(dfb)\n",
    "print(MSB)"
   ]
  },
  {
   "cell_type": "markdown",
   "id": "fffadbff",
   "metadata": {},
   "source": [
    "## here we find Total sum of square=TSS= (sum(Xij-total mean)**2)\n",
    "## Degree of Freedom=(n*m-1)"
   ]
  },
  {
   "cell_type": "code",
   "execution_count": 25,
   "id": "6bce5116",
   "metadata": {},
   "outputs": [
    {
     "data": {
      "text/plain": [
       "[1.0, 4.0, 4.0, 9.0]"
      ]
     },
     "execution_count": 25,
     "metadata": {},
     "output_type": "execute_result"
    }
   ],
   "source": [
    "s1=[(i-xbar)**2 for i in A]\n",
    "s2=[(i-xbar)**2 for i in B]\n",
    "s3=[(i-xbar)**2 for i in C]\n",
    "s4=[(i-xbar)**2 for i in D]\n",
    "s5=[(i-xbar)**2 for i in E]\n",
    "s2"
   ]
  },
  {
   "cell_type": "code",
   "execution_count": 26,
   "id": "6596bbfd",
   "metadata": {},
   "outputs": [
    {
     "name": "stdout",
     "output_type": "stream",
     "text": [
      "330.0\n",
      "19\n"
     ]
    }
   ],
   "source": [
    "TSS=sum(s1)+sum(s2)+sum(s3)+sum(s4)+sum(s5)\n",
    "print(TSS)\n",
    "dfT=(m*n)-1\n",
    "print(dfT)"
   ]
  },
  {
   "cell_type": "markdown",
   "id": "0e1c4175",
   "metadata": {},
   "source": [
    "## here we find Error sum of sqaure=SSE=TSS-SSTr-SSB\n",
    "## Degree of Freedom=(m-1)*(n-1)\n",
    "## Mean sum of square=SSE/DF"
   ]
  },
  {
   "cell_type": "code",
   "execution_count": 27,
   "id": "ea771b19",
   "metadata": {},
   "outputs": [
    {
     "name": "stdout",
     "output_type": "stream",
     "text": [
      "156.0\n",
      "12\n",
      "13.0\n"
     ]
    }
   ],
   "source": [
    "SSE=TSS-SSTr-SSB\n",
    "dfe=(m-1)*(n-1)\n",
    "MSE=SSE/dfe\n",
    "print(SSE)\n",
    "print(dfe)\n",
    "print(MSE)"
   ]
  },
  {
   "cell_type": "markdown",
   "id": "105d42fa",
   "metadata": {},
   "source": [
    "## here we find the calculated value of F-test statistic for treatment"
   ]
  },
  {
   "cell_type": "code",
   "execution_count": 39,
   "id": "1f60c243",
   "metadata": {},
   "outputs": [
    {
     "data": {
      "text/plain": [
       "0.46153846153846156"
      ]
     },
     "execution_count": 39,
     "metadata": {},
     "output_type": "execute_result"
    }
   ],
   "source": [
    "Cal_Ft=MST/MSE\n",
    "Cal_Ft"
   ]
  },
  {
   "cell_type": "markdown",
   "id": "c481a638",
   "metadata": {},
   "source": [
    "## here we find the calculated value of F-test statistic for block"
   ]
  },
  {
   "cell_type": "code",
   "execution_count": 40,
   "id": "3877f66c",
   "metadata": {},
   "outputs": [
    {
     "data": {
      "text/plain": [
       "3.8461538461538463"
      ]
     },
     "execution_count": 40,
     "metadata": {},
     "output_type": "execute_result"
    }
   ],
   "source": [
    "Cal_Fb=MSB/MSE\n",
    "Cal_Fb"
   ]
  },
  {
   "cell_type": "code",
   "execution_count": 35,
   "id": "d922fa22",
   "metadata": {},
   "outputs": [],
   "source": [
    "name1=['Between sample(due to treatment)','Between sample(due to blocks)','Within sample(due to chance of error)','Total']\n",
    "c1=[24,150,156,330]\n",
    "c2=[4,3,12,19]\n",
    "c3=[6,50,19,0]\n",
    "c4=[0.46153846153846156,3.8461538461538463,0,0]\n"
   ]
  },
  {
   "cell_type": "code",
   "execution_count": 37,
   "id": "355292b8",
   "metadata": {},
   "outputs": [
    {
     "data": {
      "text/html": [
       "<div>\n",
       "<style scoped>\n",
       "    .dataframe tbody tr th:only-of-type {\n",
       "        vertical-align: middle;\n",
       "    }\n",
       "\n",
       "    .dataframe tbody tr th {\n",
       "        vertical-align: top;\n",
       "    }\n",
       "\n",
       "    .dataframe thead th {\n",
       "        text-align: right;\n",
       "    }\n",
       "</style>\n",
       "<table border=\"1\" class=\"dataframe\">\n",
       "  <thead>\n",
       "    <tr style=\"text-align: right;\">\n",
       "      <th></th>\n",
       "      <th>Source of variation</th>\n",
       "      <th>Sum of square</th>\n",
       "      <th>DF</th>\n",
       "      <th>Mean square</th>\n",
       "      <th>F value</th>\n",
       "    </tr>\n",
       "  </thead>\n",
       "  <tbody>\n",
       "    <tr>\n",
       "      <th>0</th>\n",
       "      <td>Between sample(due to treatment)</td>\n",
       "      <td>24</td>\n",
       "      <td>4</td>\n",
       "      <td>6</td>\n",
       "      <td>0.461538</td>\n",
       "    </tr>\n",
       "    <tr>\n",
       "      <th>1</th>\n",
       "      <td>Between sample(due to blocks)</td>\n",
       "      <td>150</td>\n",
       "      <td>3</td>\n",
       "      <td>50</td>\n",
       "      <td>3.846154</td>\n",
       "    </tr>\n",
       "    <tr>\n",
       "      <th>2</th>\n",
       "      <td>Within sample(due to chance of error)</td>\n",
       "      <td>156</td>\n",
       "      <td>12</td>\n",
       "      <td>19</td>\n",
       "      <td>0.000000</td>\n",
       "    </tr>\n",
       "    <tr>\n",
       "      <th>3</th>\n",
       "      <td>Total</td>\n",
       "      <td>330</td>\n",
       "      <td>19</td>\n",
       "      <td>0</td>\n",
       "      <td>0.000000</td>\n",
       "    </tr>\n",
       "  </tbody>\n",
       "</table>\n",
       "</div>"
      ],
      "text/plain": [
       "                     Source of variation  Sum of square  DF  Mean square  \\\n",
       "0       Between sample(due to treatment)             24   4            6   \n",
       "1          Between sample(due to blocks)            150   3           50   \n",
       "2  Within sample(due to chance of error)            156  12           19   \n",
       "3                                  Total            330  19            0   \n",
       "\n",
       "    F value  \n",
       "0  0.461538  \n",
       "1  3.846154  \n",
       "2  0.000000  \n",
       "3  0.000000  "
      ]
     },
     "execution_count": 37,
     "metadata": {},
     "output_type": "execute_result"
    }
   ],
   "source": [
    "data1_dict = {'Source of variation':name1,'Sum of square':c1,'DF':c2,'Mean square':c3,'F value':c4}\n",
    "df1 = pd.DataFrame(data1_dict)\n",
    "df1"
   ]
  },
  {
   "cell_type": "code",
   "execution_count": 38,
   "id": "6d60a92c",
   "metadata": {},
   "outputs": [],
   "source": [
    "# Calculating Critical value for F test\n",
    "import scipy.stats as stats"
   ]
  },
  {
   "cell_type": "code",
   "execution_count": 44,
   "id": "c5415a4c",
   "metadata": {},
   "outputs": [
    {
     "data": {
      "text/plain": [
       "3.259166726901249"
      ]
     },
     "execution_count": 44,
     "metadata": {},
     "output_type": "execute_result"
    }
   ],
   "source": [
    "TabFt=stats.f.ppf(1-(0.05),4,12)\n",
    "TabFt"
   ]
  },
  {
   "cell_type": "code",
   "execution_count": 43,
   "id": "776afa34",
   "metadata": {},
   "outputs": [
    {
     "data": {
      "text/plain": [
       "3.490294819497605"
      ]
     },
     "execution_count": 43,
     "metadata": {},
     "output_type": "execute_result"
    }
   ],
   "source": [
    "TabFb=stats.f.ppf(1-(0.05),3,12)\n",
    "TabFb"
   ]
  },
  {
   "cell_type": "markdown",
   "id": "e0651408",
   "metadata": {},
   "source": [
    "# Conclusion"
   ]
  },
  {
   "cell_type": "markdown",
   "id": "73fcb86a",
   "metadata": {},
   "source": [
    "## Case-1: Since, CalFt>TabFt we conclude that we do not have sufficient evidence to reject the null hypothesis that there is no difference between the Treatments.\n",
    "\n",
    "## Case-2: Since, CalFb<TabFb  we conclude that we do have sufficient evidence at the 5% level of significance to reject the null hypothesis that there in no difference between the Blocks.\n"
   ]
  }
 ],
 "metadata": {
  "kernelspec": {
   "display_name": "Python 3",
   "language": "python",
   "name": "python3"
  },
  "language_info": {
   "codemirror_mode": {
    "name": "ipython",
    "version": 3
   },
   "file_extension": ".py",
   "mimetype": "text/x-python",
   "name": "python",
   "nbconvert_exporter": "python",
   "pygments_lexer": "ipython3",
   "version": "3.8.8"
  }
 },
 "nbformat": 4,
 "nbformat_minor": 5
}
