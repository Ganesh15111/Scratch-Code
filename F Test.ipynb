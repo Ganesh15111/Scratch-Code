{
 "cells": [
  {
   "cell_type": "markdown",
   "id": "c6e9cf05",
   "metadata": {},
   "source": [
    "# F test"
   ]
  },
  {
   "cell_type": "markdown",
   "id": "5b8a94d8",
   "metadata": {},
   "source": [
    "F test is used for testing the camparision of two population variances.\n",
    "\n",
    "\n",
    "\n",
    "i.e \n",
    "\n",
    "\n",
    "\n",
    "    Ho : Population variences are equal (σ1^2 = σ2^2)\n",
    "    V/S\n",
    "    H1 : Poulation variance are not equal (σ1^2 ≠ σ2^2)"
   ]
  },
  {
   "cell_type": "code",
   "execution_count": 1,
   "id": "2659b2b0",
   "metadata": {},
   "outputs": [],
   "source": [
    "# For example, we get following two data set And we want to apply F test for these data.\n",
    "x = [18, 19, 22, 25, 27, 28, 41, 45, 51, 55]\n",
    "y = [14, 15, 15, 17, 18, 22, 25, 25, 27, 34]"
   ]
  },
  {
   "cell_type": "code",
   "execution_count": 18,
   "id": "91f8b56e",
   "metadata": {},
   "outputs": [
    {
     "data": {
      "text/plain": [
       "10"
      ]
     },
     "execution_count": 18,
     "metadata": {},
     "output_type": "execute_result"
    }
   ],
   "source": [
    "n=len(x)\n",
    "n"
   ]
  },
  {
   "cell_type": "code",
   "execution_count": 28,
   "id": "acfd677c",
   "metadata": {},
   "outputs": [],
   "source": [
    "# here we define function of mean\n",
    "def mean(data):\n",
    "    return sum(data)/n\n",
    "    \n",
    "    "
   ]
  },
  {
   "cell_type": "code",
   "execution_count": 29,
   "id": "2349f6c7",
   "metadata": {},
   "outputs": [
    {
     "data": {
      "text/plain": [
       "33.1"
      ]
     },
     "execution_count": 29,
     "metadata": {},
     "output_type": "execute_result"
    }
   ],
   "source": [
    "x_bar=mean(x)\n",
    "x_bar"
   ]
  },
  {
   "cell_type": "code",
   "execution_count": 30,
   "id": "373762ba",
   "metadata": {},
   "outputs": [
    {
     "data": {
      "text/plain": [
       "21.2"
      ]
     },
     "execution_count": 30,
     "metadata": {},
     "output_type": "execute_result"
    }
   ],
   "source": [
    "y_bar=mean(y)\n",
    "y_bar"
   ]
  },
  {
   "cell_type": "code",
   "execution_count": null,
   "id": "01b46138",
   "metadata": {},
   "outputs": [],
   "source": []
  },
  {
   "cell_type": "code",
   "execution_count": 12,
   "id": "bda5c7fd",
   "metadata": {},
   "outputs": [
    {
     "data": {
      "text/plain": [
       "168.28999999999996"
      ]
     },
     "execution_count": 12,
     "metadata": {},
     "output_type": "execute_result"
    }
   ],
   "source": [
    "# here we calculate variance x for first data set.\n",
    "vx=((sum([i**2 for i in x]))/n)-(x_bar**2)\n",
    "vx"
   ]
  },
  {
   "cell_type": "code",
   "execution_count": 13,
   "id": "ff63b985",
   "metadata": {},
   "outputs": [
    {
     "data": {
      "text/plain": [
       "38.360000000000014"
      ]
     },
     "execution_count": 13,
     "metadata": {},
     "output_type": "execute_result"
    }
   ],
   "source": [
    "# here we calculate variance y for second data set.\n",
    "vy=((sum([j**2 for j in y]))/n)-(y_bar**2)\n",
    "vy"
   ]
  },
  {
   "cell_type": "code",
   "execution_count": 24,
   "id": "5a465044",
   "metadata": {},
   "outputs": [
    {
     "data": {
      "text/plain": [
       "4.387122002085503"
      ]
     },
     "execution_count": 24,
     "metadata": {},
     "output_type": "execute_result"
    }
   ],
   "source": [
    "# Calculating test statistic for F test\n",
    "CalF=vx/vy\n",
    "CalF"
   ]
  },
  {
   "cell_type": "code",
   "execution_count": 31,
   "id": "f81e4b0c",
   "metadata": {},
   "outputs": [],
   "source": [
    "# Calculating Critical value for F test\n",
    "import scipy.stats as stats"
   ]
  },
  {
   "cell_type": "code",
   "execution_count": 32,
   "id": "b2d01f26",
   "metadata": {},
   "outputs": [
    {
     "data": {
      "text/plain": [
       "4.025994158282978"
      ]
     },
     "execution_count": 32,
     "metadata": {},
     "output_type": "execute_result"
    }
   ],
   "source": [
    "TabF=stats.f.ppf(1-(0.05/2),9,9)\n",
    "TabF"
   ]
  },
  {
   "cell_type": "code",
   "execution_count": null,
   "id": "c1307ae1",
   "metadata": {},
   "outputs": [],
   "source": [
    "## Here CalT > TabT hence, we reject Ho at 5% LOS. Hence\n",
    "## we conclued that the population variance are not equal(i.e σ1^2 ≠ σ2^2)."
   ]
  }
 ],
 "metadata": {
  "kernelspec": {
   "display_name": "Python 3",
   "language": "python",
   "name": "python3"
  },
  "language_info": {
   "codemirror_mode": {
    "name": "ipython",
    "version": 3
   },
   "file_extension": ".py",
   "mimetype": "text/x-python",
   "name": "python",
   "nbconvert_exporter": "python",
   "pygments_lexer": "ipython3",
   "version": "3.8.8"
  }
 },
 "nbformat": 4,
 "nbformat_minor": 5
}
